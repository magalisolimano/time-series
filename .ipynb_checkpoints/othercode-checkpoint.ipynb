{
 "cells": [
  {
   "cell_type": "code",
   "execution_count": null,
   "metadata": {},
   "outputs": [],
   "source": [
    "# Define the p, d and q parameters to take any value between 1 and 3\n",
    "# p is number of auto-regressive terms, d is number of differences, q is number  \n",
    "# of moving average terms, s is periodicity of time series\n",
    "p = d = q = range(1, 3)\n",
    "\n",
    "# Generate all different combinations of p, q and q triplets\n",
    "pdq = list(itertools.product(p, d, q))\n",
    "\n",
    "# Generate all different combinations of seasonal p, q and q triplets\n",
    "# set s = 12\n",
    "pdqs = [(x[0], x[1], x[2], 12) for x in list(itertools.product(p, d, q))]"
   ]
  },
  {
   "cell_type": "code",
   "execution_count": null,
   "metadata": {},
   "outputs": [],
   "source": [
    "# Run a grid search with pdq and seasonal pdq parameters calculated above and  \n",
    "# get best (ie, lowest) AIC value\n",
    "results = []\n",
    "\n",
    "for comb in pdq:\n",
    "    for combs in pdqs:\n",
    "        try:\n",
    "            mod = sm.tsa.statespace.SARIMAX(pierson_ts,\n",
    "                                            order=comb,\n",
    "                                            seasonal_order=combs,\n",
    "                                            enforce_stationarity=False,\n",
    "                                            enforce_invertibility=False)\n",
    "\n",
    "            output = mod.fit()\n",
    "            results.append([comb, combs, output.aic])\n",
    "            print('ARIMA {} x {}: AIC Calculated={}'.format(comb, combs, output.aic))\n",
    "        except:\n",
    "            continue"
   ]
  },
  {
   "cell_type": "code",
   "execution_count": null,
   "metadata": {},
   "outputs": [],
   "source": [
    "# Find the parameters with minimal AIC value\n",
    "results_df = pd.DataFrame(results, columns=['pdq', 'pdqs', 'aic'])\n",
    "print(results_df.loc[results_df['aic'].idxmin()])"
   ]
  },
  {
   "cell_type": "code",
   "execution_count": null,
   "metadata": {},
   "outputs": [],
   "source": [
    "# Try with another type of function\n",
    "def find_pdq(df, pdq):\n",
    "    results=[]\n",
    "    for params in pdq:\n",
    "        try:\n",
    "            model = sm.tsa.statespace.SARIMAX(endog=ts,\n",
    "                                            order=params,\n",
    "                                            seasonal_order=params,\n",
    "                                            enforce_stationarity=False,\n",
    "                                            enforce_invertibility=False)\n",
    "            AIC=model.fit()\n",
    "            results.append([params, AIC])\n",
    "        except:\n",
    "            continue\n",
    "        \n",
    "    results.sort(key=lambda x: x[-1])\n",
    "    #result_pdq = results[0][0]\n",
    "    return results"
   ]
  },
  {
   "cell_type": "code",
   "execution_count": null,
   "metadata": {},
   "outputs": [],
   "source": [
    "find_pdq(pierson_ts, pdq)"
   ]
  },
  {
   "cell_type": "code",
   "execution_count": null,
   "metadata": {},
   "outputs": [],
   "source": [
    "def grid_search_arima(ts_train, d = 0):\n",
    "    '''Attempt all pdq parameters to find lowest AIC value'''\n",
    "    \n",
    "    # Define the p, d and q parameters to take any value between 0 and 2\n",
    "    p = q = range(0, 3) #=d\n",
    "\n",
    "    # Generate all different combinations of p, d, and q triplets\n",
    "    #  pdq = list(itertools.product(p, d, q))\n",
    "    pq = list(itertools.product(p, q))\n",
    "    pdq = [(x[0], d, x[1]) for x in pq]          \n",
    "    \n",
    "    # Generate all different combinations of seasonal p, d, q and q triplets\n",
    "    \n",
    "    ps = ds = qs = range(0, 3)\n",
    "    psdsqs = list(itertools.product(ps, ds, qs))\n",
    "    pdqs = [(x[0], x[1], x[2], 12) for x in psdsqs]\n",
    "    \n",
    "    # Run grid search with pdq and seasonal pdq parameters calculated above and \n",
    "    # get best AIC value\n",
    "    results = []\n",
    "    for comb in pdq:\n",
    "        for combs in pdqs:\n",
    "            try:\n",
    "                grid_model = sm.tsa.statespace.SARIMAX(train, \n",
    "                                                       order=comb, \n",
    "                                                       seasonal_order=combs, \n",
    "                                                       freq='MS')\n",
    "                grid_results = grid_model.fit()\n",
    "                results.append([comb, combs, grid_results.aic])\n",
    "                print('ARIMA {} x {}: AIC Calculated ={}'.format(comb, combs, results.aic))\n",
    "            except:\n",
    "                continue\n",
    "    \n",
    "    results_df = pd.DataFrame(results, columns=['pdq', 'pdqs', 'aic'])\n",
    "    print(results_df.loc[results_df['aic'].astype(float).idxmin()])\n",
    "    return results_df"
   ]
  },
  {
   "cell_type": "code",
   "execution_count": null,
   "metadata": {},
   "outputs": [],
   "source": [
    "#pierson_gridsearch = grid_search_arima(pierson_ts, d=0)\n",
    "#pierson_gridsearch"
   ]
  },
  {
   "cell_type": "code",
   "execution_count": null,
   "metadata": {},
   "outputs": [],
   "source": [
    "## !!! more code on functions to determine p,d,q parameters"
   ]
  },
  {
   "cell_type": "code",
   "execution_count": null,
   "metadata": {},
   "outputs": [],
   "source": [
    "# Define the p, d and q parameters to take any value between 1 and 3\n",
    "# p is number of auto-regressive terms, d is number of differences, q is number  \n",
    "# of moving average terms, s is periodicity of time series\n",
    "p = d = q = range(1, 3)\n",
    "\n",
    "# Generate all different combinations of p, q and q triplets\n",
    "pdq = list(itertools.product(p, d, q))\n",
    "\n",
    "# Generate all different combinations of seasonal p, q and q triplets\n",
    "# set s = 12\n",
    "pdqs = [(x[0], x[1], x[2], 12) for x in list(itertools.product(p, d, q))]\n",
    "\n",
    "\n",
    "def gs(ts_train, d=0):\n",
    "    \n",
    "    results = []\n",
    "    for comb in pdq:\n",
    "        for combs in pdqs:\n",
    "            try:\n",
    "                grid_model = sm.tsa.statespace.SARIMAX(pierson_ts,\n",
    "                                                       order=comb,\n",
    "                                                       seasonal_order=combs,\n",
    "                                            enforce_stationarity=False,\n",
    "                                            enforce_invertibility=False)\n",
    "\n",
    "                output = mod.fit()\n",
    "                results.append([comb, combs, output.aic])\n",
    "                print('ARIMA {} x {}: AIC Calculated={}'.format(comb, combs, output.aic))\n",
    "            except:\n",
    "                continue"
   ]
  },
  {
   "cell_type": "code",
   "execution_count": null,
   "metadata": {},
   "outputs": [],
   "source": []
  }
 ],
 "metadata": {
  "kernelspec": {
   "display_name": "Python [conda env:learn-env] *",
   "language": "python",
   "name": "conda-env-learn-env-py"
  },
  "language_info": {
   "codemirror_mode": {
    "name": "ipython",
    "version": 3
   },
   "file_extension": ".py",
   "mimetype": "text/x-python",
   "name": "python",
   "nbconvert_exporter": "python",
   "pygments_lexer": "ipython3",
   "version": "3.6.9"
  },
  "toc": {
   "base_numbering": 1,
   "nav_menu": {},
   "number_sections": true,
   "sideBar": true,
   "skip_h1_title": true,
   "title_cell": "Table of Contents",
   "title_sidebar": "Contents",
   "toc_cell": false,
   "toc_position": {},
   "toc_section_display": true,
   "toc_window_display": false
  }
 },
 "nbformat": 4,
 "nbformat_minor": 2
}
